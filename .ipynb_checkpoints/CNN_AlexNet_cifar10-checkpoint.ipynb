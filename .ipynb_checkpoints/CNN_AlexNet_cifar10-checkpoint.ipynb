{
 "cells": [
  {
   "cell_type": "code",
   "execution_count": 2,
   "metadata": {
    "colab": {
     "autoexec": {
      "startup": false,
      "wait_interval": 0
     },
     "base_uri": "https://localhost:8080/",
     "height": 37
    },
    "colab_type": "code",
    "executionInfo": {
     "elapsed": 308,
     "status": "ok",
     "timestamp": 1529926548200,
     "user": {
      "displayName": "Yannis Tannier",
      "photoUrl": "https://lh3.googleusercontent.com/a/default-user=s128",
      "userId": "108736081945991821881"
     },
     "user_tz": -120
    },
    "id": "EQMmamk7VVVa",
    "outputId": "bb05a369-8e00-4dab-e6a4-1dff3135e43f"
   },
   "outputs": [],
   "source": [
    "from keras.datasets import cifar10\n",
    "import matplotlib.pyplot as plt\n",
    "import tensorflow as tf\n",
    "import numpy as np"
   ]
  },
  {
   "cell_type": "code",
   "execution_count": 6,
   "metadata": {
    "colab": {
     "autoexec": {
      "startup": false,
      "wait_interval": 0
     },
     "base_uri": "https://localhost:8080/",
     "height": 17
    },
    "colab_type": "code",
    "executionInfo": {
     "elapsed": 451,
     "status": "ok",
     "timestamp": 1529926549372,
     "user": {
      "displayName": "Yannis Tannier",
      "photoUrl": "https://lh3.googleusercontent.com/a/default-user=s128",
      "userId": "108736081945991821881"
     },
     "user_tz": -120
    },
    "id": "kedq_ljZV2_-",
    "outputId": "273e6542-349e-4cbf-e2dc-ce0c12f081c7"
   },
   "outputs": [],
   "source": [
    "(x_train, y_train), (x_test, y_test) = cifar10.load_data()"
   ]
  },
  {
   "cell_type": "code",
   "execution_count": 7,
   "metadata": {
    "colab": {
     "autoexec": {
      "startup": false,
      "wait_interval": 0
     },
     "base_uri": "https://localhost:8080/",
     "height": 17
    },
    "colab_type": "code",
    "executionInfo": {
     "elapsed": 396,
     "status": "ok",
     "timestamp": 1529926550773,
     "user": {
      "displayName": "Yannis Tannier",
      "photoUrl": "https://lh3.googleusercontent.com/a/default-user=s128",
      "userId": "108736081945991821881"
     },
     "user_tz": -120
    },
    "id": "Bn7TKHW4V7eO",
    "outputId": "e9535ba8-f763-40da-ef7c-0df04a21edd3"
   },
   "outputs": [],
   "source": [
    "batch, height, width, channels = x_train.shape\n",
    "batch_size = 500\n",
    "output = 10"
   ]
  },
  {
   "cell_type": "markdown",
   "metadata": {
    "colab_type": "text",
    "id": "avWUmTMCWJxT"
   },
   "source": [
    "Display : "
   ]
  },
  {
   "cell_type": "code",
   "execution_count": 16,
   "metadata": {
    "colab": {
     "autoexec": {
      "startup": false,
      "wait_interval": 0
     },
     "base_uri": "https://localhost:8080/",
     "height": 362
    },
    "colab_type": "code",
    "executionInfo": {
     "elapsed": 316,
     "status": "ok",
     "timestamp": 1529926551707,
     "user": {
      "displayName": "Yannis Tannier",
      "photoUrl": "https://lh3.googleusercontent.com/a/default-user=s128",
      "userId": "108736081945991821881"
     },
     "user_tz": -120
    },
    "id": "jFQg5dMPWBD_",
    "outputId": "78d90408-b633-4599-aded-b95015b9eb70"
   },
   "outputs": [
    {
     "data": {
      "image/png": "[encoded data removed]",
      "text/plain": [
       "<matplotlib.figure.Figure at 0x7f9032735eb8>"
      ]
     },
     "metadata": {
      "tags": []
     },
     "output_type": "display_data"
    }
   ],
   "source": [
    "plt.title(\"original image\")\n",
    "plt.imshow(x_train[1])\n",
    "plt.axis('off')\n",
    "plt.show()"
   ]
  },
  {
   "cell_type": "markdown",
   "metadata": {
    "colab_type": "text",
    "id": "RYYcurQ0WkBw"
   },
   "source": [
    "### First CNN "
   ]
  },
  {
   "cell_type": "markdown",
   "metadata": {
    "colab_type": "text",
    "id": "pLYyA--RZVmr"
   },
   "source": [
    "Archi :\n",
    "\n",
    "INPUT => Conv => Relu => Max pooling => FC (with dropout rate=0.4)\n",
    "\n",
    "Optimizer : Adam\n",
    "\n",
    "Conv : \n",
    " - filters : 12 \n",
    " - receptive field : 5 \n",
    " - stride : 1\n",
    " - zero margin : 1\n",
    " \n",
    " \n",
    " Max pooling : \n",
    " - size : 2\n",
    " - stride : 2\n"
   ]
  },
  {
   "cell_type": "code",
   "execution_count": 17,
   "metadata": {
    "colab": {
     "autoexec": {
      "startup": false,
      "wait_interval": 0
     },
     "base_uri": "https://localhost:8080/",
     "height": 17
    },
    "colab_type": "code",
    "executionInfo": {
     "elapsed": 469,
     "status": "ok",
     "timestamp": 1529926554797,
     "user": {
      "displayName": "Yannis Tannier",
      "photoUrl": "https://lh3.googleusercontent.com/a/default-user=s128",
      "userId": "108736081945991821881"
     },
     "user_tz": -120
    },
    "id": "PKcTlIePWnu9",
    "outputId": "2c8dc741-d067-4bce-b275-3c9e6b7ca694"
   },
   "outputs": [],
   "source": [
    "with tf.device(\"/device:GPU:0\"):\n",
    "  tf.reset_default_graph()\n",
    "  X = tf.placeholder(tf.float32, shape=(None, height, width, channels), name=\"X\")\n",
    "  y = tf.placeholder(tf.int32, shape=(None), name=\"y\")\n",
    "  \n",
    "  \n",
    "  #first conv layer : \n",
    "  #we decide to use 12 filters, receptive field is 5 (5x5)\n",
    "  # stride = 1 \n",
    "  # zero margin = 1\n",
    "  # So the output will be : [32x32x12]\n",
    "  convolution = tf.layers.conv2d(X, filters=12, kernel_size=5 ,strides=[1,1], padding=\"SAME\")\n",
    "  \n",
    "  relu_layer = tf.nn.relu(convolution)\n",
    "  \n",
    "  max_pool = tf.nn.max_pool(relu_layer, ksize=[1,2,2,1], strides=[1,2,2,1], padding=\"VALID\")\n",
    "  # ksize => forme du noyau [batch size, height, width, channel]\n",
    "  # premier element tjrs a 1 pour l'instant\n",
    "  \n",
    "  \n",
    "  # FULLY CONNECTED : ----- n_neurones = 16x16x12 = 3072\n",
    "  pool2_flat = tf.reshape(max_pool, [-1, 16 * 16 * 12])\n",
    "  hidden1 = tf.layers.dense(pool2_flat, 3072, name=\"hidden1\", activation=tf.nn.relu)\n",
    "  dropout = tf.layers.dropout(hidden1, rate=0.4)\n",
    "  \n",
    "  # logits :\n",
    "  logits = tf.layers.dense(dropout, 10)\n",
    "  \n",
    "  xentropy = tf.nn.sparse_softmax_cross_entropy_with_logits(labels=y, logits=logits)  # entropie croisée\n",
    "  loss = tf.reduce_mean(xentropy)  # loss\n",
    "\n",
    "\n",
    "  optimizer = tf.train.AdamOptimizer(0.001)\n",
    "  training_op = optimizer.minimize(loss)\n",
    "  \n",
    "  #EVAL : \n",
    "  correct = tf.nn.in_top_k(logits, y, 1)\n",
    "  accuracy = tf.reduce_mean(tf.cast(correct, tf.float32), name=\"accuracy\")"
   ]
  },
  {
   "cell_type": "code",
   "execution_count": 18,
   "metadata": {
    "colab": {
     "autoexec": {
      "startup": false,
      "wait_interval": 0
     },
     "base_uri": "https://localhost:8080/",
     "height": 476
    },
    "colab_type": "code",
    "executionInfo": {
     "elapsed": 480026,
     "status": "ok",
     "timestamp": 1529927053890,
     "user": {
      "displayName": "Yannis Tannier",
      "photoUrl": "https://lh3.googleusercontent.com/a/default-user=s128",
      "userId": "108736081945991821881"
     },
     "user_tz": -120
    },
    "id": "4ZY_V8uIXEoh",
    "outputId": "979fc4ed-504d-4d67-ae81-749003b3c1ee"
   },
   "outputs": [
    {
     "name": "stdout",
     "output_type": "stream",
     "text": [
      "Epoch : 0 Training accuracy: 0.22622 Validation accuracy: 0.2125\n",
      "Epoch : 3 Training accuracy: 0.39264 Validation accuracy: 0.2781\n",
      "Epoch : 6 Training accuracy: 0.4963 Validation accuracy: 0.3051\n",
      "Epoch : 9 Training accuracy: 0.568 Validation accuracy: 0.3005\n",
      "Epoch : 12 Training accuracy: 0.63264 Validation accuracy: 0.3109\n",
      "Epoch : 15 Training accuracy: 0.68742 Validation accuracy: 0.3235\n",
      "Epoch : 18 Training accuracy: 0.72296 Validation accuracy: 0.3234\n",
      "Epoch : 21 Training accuracy: 0.74848 Validation accuracy: 0.324\n",
      "Epoch : 24 Training accuracy: 0.77056 Validation accuracy: 0.3181\n",
      "Epoch : 27 Training accuracy: 0.76406 Validation accuracy: 0.3198\n",
      "Epoch : 30 Training accuracy: 0.79562 Validation accuracy: 0.3235\n",
      "Epoch : 33 Training accuracy: 0.82102 Validation accuracy: 0.3259\n",
      "Epoch : 36 Training accuracy: 0.81676 Validation accuracy: 0.3267\n",
      "Epoch : 39 Training accuracy: 0.79714 Validation accuracy: 0.3185\n",
      "Epoch : 42 Training accuracy: 0.76062 Validation accuracy: 0.326\n",
      "Epoch : 45 Training accuracy: 0.81374 Validation accuracy: 0.3329\n",
      "Epoch : 48 Training accuracy: 0.8187 Validation accuracy: 0.3214\n",
      "Epoch : 51 Training accuracy: 0.84354 Validation accuracy: 0.3268\n",
      "Epoch : 54 Training accuracy: 0.86592 Validation accuracy: 0.3263\n",
      "Epoch : 57 Training accuracy: 0.86206 Validation accuracy: 0.3383\n",
      "Epoch : 60 Training accuracy: 0.83798 Validation accuracy: 0.3277\n",
      "Epoch : 63 Training accuracy: 0.85602 Validation accuracy: 0.3273\n",
      "Epoch : 66 Training accuracy: 0.87854 Validation accuracy: 0.3269\n",
      "Epoch : 69 Training accuracy: 0.8979 Validation accuracy: 0.3346\n",
      "Epoch : 72 Training accuracy: 0.85838 Validation accuracy: 0.3128\n",
      "Epoch : 75 Training accuracy: 0.89244 Validation accuracy: 0.3263\n",
      "Epoch : 78 Training accuracy: 0.85398 Validation accuracy: 0.3168\n"
     ]
    }
   ],
   "source": [
    "#Training : \n",
    "\n",
    "with tf.device(\"/device:GPU:0\"):\n",
    "  init = tf.global_variables_initializer()\n",
    "  n_epoch = 80\n",
    "\n",
    "  x_train_batch = np.split(x_train, batch/batch_size)\n",
    "  y_train_batch = np.split(y_train, batch/batch_size)\n",
    "  \n",
    "  acc_t = []\n",
    "  acc_v = []\n",
    "  loss_a = []\n",
    "\n",
    "  with tf.Session() as sess:\n",
    "      init.run()\n",
    "      for n in range(n_epoch):\n",
    "          for index, X_t in enumerate(x_train_batch):\n",
    "              sess.run(training_op, feed_dict={X:X_t, y:y_train_batch[index].reshape(-1)})\n",
    "\n",
    "          acc_train = accuracy.eval(feed_dict={X: x_train, y: y_train.reshape(-1)})\n",
    "          acc_valid = accuracy.eval(feed_dict={X: x_test, y: y_test.reshape(-1)})\n",
    "          loss_a.append(loss.eval(feed_dict={X: x_train, y: y_train.reshape(-1)}))\n",
    "          acc_t.append(acc_train)\n",
    "          acc_v.append(acc_valid)\n",
    "          if n%3 == 0 :\n",
    "            print(\"Epoch :\", n, \"Training accuracy:\", acc_train, \"Validation accuracy:\", acc_valid)"
   ]
  },
  {
   "cell_type": "markdown",
   "metadata": {
    "colab_type": "text",
    "id": "Hac4St0ZdByN"
   },
   "source": [
    "datas : "
   ]
  },
  {
   "cell_type": "code",
   "execution_count": 28,
   "metadata": {
    "colab": {
     "autoexec": {
      "startup": false,
      "wait_interval": 0
     },
     "base_uri": "https://localhost:8080/",
     "height": 376
    },
    "colab_type": "code",
    "executionInfo": {
     "elapsed": 503,
     "status": "ok",
     "timestamp": 1529927841368,
     "user": {
      "displayName": "Yannis Tannier",
      "photoUrl": "https://lh3.googleusercontent.com/a/default-user=s128",
      "userId": "108736081945991821881"
     },
     "user_tz": -120
    },
    "id": "S4Cb-VBaycuN",
    "outputId": "f847a00f-206f-4aed-de2a-80662280be8c"
   },
   "outputs": [
    {
     "data": {
      "image/png": "[encoded data removed]",
      "text/plain": [
       "<matplotlib.figure.Figure at 0x7f900be2d6a0>"
      ]
     },
     "metadata": {
      "tags": []
     },
     "output_type": "display_data"
    }
   ],
   "source": [
    "ax = plt.gca()\n",
    "ax.invert_yaxis()\n",
    "plt.title(\"Accuracy (%) model\")\n",
    "plt.plot(acc_t, \"b\", label=\"training\")\n",
    "plt.plot(acc_v, 'r', label=\"validation\")\n",
    "plt.legend()\n",
    "plt.xlabel('epochs')\n",
    "plt.show()"
   ]
  },
  {
   "cell_type": "code",
   "execution_count": 27,
   "metadata": {
    "colab": {
     "autoexec": {
      "startup": false,
      "wait_interval": 0
     },
     "base_uri": "https://localhost:8080/",
     "height": 393
    },
    "colab_type": "code",
    "executionInfo": {
     "elapsed": 480,
     "status": "ok",
     "timestamp": 1529927836187,
     "user": {
      "displayName": "Yannis Tannier",
      "photoUrl": "https://lh3.googleusercontent.com/a/default-user=s128",
      "userId": "108736081945991821881"
     },
     "user_tz": -120
    },
    "id": "nKQCgiZVXJHh",
    "outputId": "7a856761-8077-4a32-d111-6532a0a44c64"
   },
   "outputs": [
    {
     "name": "stderr",
     "output_type": "stream",
     "text": [
      "No handles with labels found to put in legend.\n"
     ]
    },
    {
     "data": {
      "image/png": "[encoded data removed]",
      "text/plain": [
       "<matplotlib.figure.Figure at 0x7f900beda208>"
      ]
     },
     "metadata": {
      "tags": []
     },
     "output_type": "display_data"
    }
   ],
   "source": [
    "ax = plt.gca()\n",
    "plt.title(\"Loss\")\n",
    "plt.plot(loss_a, \"b\")\n",
    "plt.legend()\n",
    "plt.xlabel('epochs')\n",
    "plt.show()"
   ]
  },
  {
   "cell_type": "markdown",
   "metadata": {
    "colab_type": "text",
    "id": "zqhVDbspdGTr"
   },
   "source": [
    "### Second CNN"
   ]
  },
  {
   "cell_type": "markdown",
   "metadata": {
    "colab_type": "text",
    "id": "svUFX4lDz3pn"
   },
   "source": [
    "Archi :\n",
    "\n",
    "INPUT => Conv => Relu => Pool (max) => norm LRN  => dropout => Conv => Conv => Relu => Pool (max) => norm LRN => FC (with dropout rate=0.4)\n",
    "\n",
    "Optimizer : \n",
    "- Adam\n",
    "- progressive learning rate\n",
    "\n",
    "Conv :\n",
    "- filters : 32 /  64 \n",
    "- receptive field : 3\n",
    "- stride : 1\n",
    "- zero margin : 1\n",
    "\n",
    "\n",
    "Max pooling :\n",
    "- size : 2\n",
    "- stride : 2\n",
    "- zero padding : 1"
   ]
  },
  {
   "cell_type": "code",
   "execution_count": 39,
   "metadata": {
    "colab": {
     "autoexec": {
      "startup": false,
      "wait_interval": 0
     },
     "base_uri": "https://localhost:8080/",
     "height": 272
    },
    "colab_type": "code",
    "executionInfo": {
     "elapsed": 575027,
     "status": "ok",
     "timestamp": 1529935971613,
     "user": {
      "displayName": "Yannis Tannier",
      "photoUrl": "https://lh3.googleusercontent.com/a/default-user=s128",
      "userId": "108736081945991821881"
     },
     "user_tz": -120
    },
    "id": "SD06HRwzdFdl",
    "outputId": "3fb39555-a775-4ad0-bf5b-7fe710d43580"
   },
   "outputs": [
    {
     "name": "stdout",
     "output_type": "stream",
     "text": [
      "0 Training accuracy: 0.4624 Validation accuracy: 0.4599\n",
      "3 Training accuracy: 0.71164 Validation accuracy: 0.6582\n",
      "6 Training accuracy: 0.79104 Validation accuracy: 0.6766\n",
      "9 Training accuracy: 0.83804 Validation accuracy: 0.6845\n",
      "12 Training accuracy: 0.9112 Validation accuracy: 0.6952\n",
      "15 Training accuracy: 0.92504 Validation accuracy: 0.6833\n",
      "18 Training accuracy: 0.96932 Validation accuracy: 0.6987\n",
      "21 Training accuracy: 0.97516 Validation accuracy: 0.6992\n",
      "24 Training accuracy: 0.99748 Validation accuracy: 0.7191\n",
      "27 Training accuracy: 0.99996 Validation accuracy: 0.7271\n",
      "30 Training accuracy: 1.0 Validation accuracy: 0.7272\n",
      "33 Training accuracy: 1.0 Validation accuracy: 0.7265\n",
      "36 Training accuracy: 1.0 Validation accuracy: 0.7254\n",
      "39 Training accuracy: 1.0 Validation accuracy: 0.7255\n",
      "42 Training accuracy: 1.0 Validation accuracy: 0.7255\n"
     ]
    }
   ],
   "source": [
    "def lr(epoch):\n",
    "    learning_rate = 1e-3\n",
    "    if epoch > 90:\n",
    "        learning_rate *= 0.5e-3\n",
    "    elif epoch > 70:\n",
    "        learning_rate *= 1e-3\n",
    "    elif epoch > 50:\n",
    "        learning_rate *= 1e-2\n",
    "    elif epoch > 25:\n",
    "        learning_rate *= 1e-1\n",
    "    return learning_rate\n",
    "\n",
    "  \n",
    "with tf.device(\"/device:GPU:0\"):\n",
    "  tf.reset_default_graph()\n",
    "  X = tf.placeholder(tf.float32, shape=(None, height, width, channels), name=\"X\")\n",
    "  y = tf.placeholder(tf.int32, shape=(None), name=\"y\")\n",
    "  learning_rate = tf.placeholder(tf.float32, shape=[], name='learning_rate')\n",
    "  \n",
    "  \n",
    "  #first conv layer : \n",
    "  convolution = tf.layers.conv2d(X, filters=32, kernel_size=3 ,strides=[1,1], padding=\"SAME\")\n",
    "  relu_layer = tf.nn.relu(convolution)\n",
    "  #first pooling :\n",
    "  max_pool = tf.nn.max_pool(relu_layer, ksize=[1,2,2,1], strides=[1,2,2,1], padding=\"SAME\")\n",
    "  norm1 = tf.nn.local_response_normalization(max_pool)\n",
    "  dropout1 = tf.layers.dropout(norm1, rate=0.5)\n",
    "  \n",
    "  #second conv layer : \n",
    "  convolution2 = tf.layers.conv2d(norm1, filters=64, kernel_size=3 ,strides=[1,1], padding=\"SAME\")\n",
    "  relu_layer2 = tf.nn.relu(convolution2)\n",
    "  max_pool2 = tf.nn.max_pool(relu_layer2, ksize=[1,2,2,1], strides=[1,2,2,1], padding=\"SAME\")\n",
    "  norm2 = tf.nn.local_response_normalization(max_pool2)\n",
    "  dropout2 = tf.layers.dropout(norm2, rate=0.25)\n",
    "  \n",
    "  \n",
    "  # FULLY CONNECTED : ----- n_neurones = 16x16x12 = 3072\n",
    "  pool2_flat = tf.reshape(dropout2, [-1, 8 * 8 * 64])\n",
    "  hidden1 = tf.layers.dense(pool2_flat, 3072, name=\"hidden1\", activation=tf.nn.relu)\n",
    "  dropout = tf.layers.dropout(hidden1, rate=0.25)\n",
    "  \n",
    "  # logits :\n",
    "  logits = tf.layers.dense(dropout, 10)\n",
    "  \n",
    "  xentropy = tf.nn.sparse_softmax_cross_entropy_with_logits(labels=y, logits=logits)  # entropie croisée\n",
    "  loss = tf.reduce_mean(xentropy)  # loss\n",
    "\n",
    "  \n",
    "  # Decay the learning rate exponentially based on the number of steps.\n",
    "  \n",
    "  optimizer = tf.train.AdamOptimizer(learning_rate=learning_rate,beta1=0.9,beta2=0.999,epsilon=1e-08)\n",
    "  training_op = optimizer.minimize(loss)\n",
    "  \n",
    "  #EVAL : \n",
    "  correct = tf.nn.in_top_k(logits, y, 1)\n",
    "  accuracy = tf.reduce_mean(tf.cast(correct, tf.float32), name=\"accuracy\")\n",
    "  \n",
    "  init = tf.global_variables_initializer()\n",
    "  n_epoch = 45\n",
    "\n",
    "  x_train_batch = np.split(x_train, batch/batch_size)\n",
    "  y_train_batch = np.split(y_train, batch/batch_size)\n",
    "  \n",
    "  acc_t2 = []\n",
    "  acc_v2 = []\n",
    "  loss_a2 = []\n",
    "\n",
    "  with tf.Session() as sess:\n",
    "      init.run()\n",
    "      for n in range(n_epoch):\n",
    "          for index, X_t in enumerate(x_train_batch):\n",
    "              sess.run(training_op, feed_dict={X:X_t, y:y_train_batch[index].reshape(-1), learning_rate:lr(n)})\n",
    "          \n",
    "          acc_train = accuracy.eval(feed_dict={X: x_train[0:25000], y: y_train[0:25000].reshape(-1)})\n",
    "          acc_valid = accuracy.eval(feed_dict={X: x_test, y: y_test.reshape(-1)})\n",
    "          loss_a2.append(loss.eval(feed_dict={X: x_train[0:25000], y: y_train[0:25000].reshape(-1)}))\n",
    "          acc_t2.append(acc_train)\n",
    "          acc_v2.append(acc_valid)\n",
    "          if n%3==0:\n",
    "            print(n, \"Training accuracy:\", acc_train, \"Validation accuracy:\", acc_valid)"
   ]
  },
  {
   "cell_type": "code",
   "execution_count": 42,
   "metadata": {
    "colab": {
     "autoexec": {
      "startup": false,
      "wait_interval": 0
     },
     "base_uri": "https://localhost:8080/",
     "height": 376
    },
    "colab_type": "code",
    "executionInfo": {
     "elapsed": 565,
     "status": "ok",
     "timestamp": 1529937783005,
     "user": {
      "displayName": "Yannis Tannier",
      "photoUrl": "https://lh3.googleusercontent.com/a/default-user=s128",
      "userId": "108736081945991821881"
     },
     "user_tz": -120
    },
    "id": "xxtR4Yg7d1Sw",
    "outputId": "b2e51a5b-fc29-42f4-8e4b-e044883ad92e"
   },
   "outputs": [
    {
     "data": {
      "image/png": "[encoded data removed]",
      "text/plain": [
       "<matplotlib.figure.Figure at 0x7f9032707908>"
      ]
     },
     "metadata": {
      "tags": []
     },
     "output_type": "display_data"
    }
   ],
   "source": [
    "ax = plt.gca()\n",
    "ax.invert_yaxis()\n",
    "plt.title(\"Accuracy (%) model\")\n",
    "plt.plot(acc_t2, \"b\", label=\"training\")\n",
    "plt.plot(acc_v2, 'r', label=\"validation\")\n",
    "plt.legend()\n",
    "plt.xlabel('epochs')\n",
    "plt.show()"
   ]
  },
  {
   "cell_type": "code",
   "execution_count": 43,
   "metadata": {
    "colab": {
     "autoexec": {
      "startup": false,
      "wait_interval": 0
     },
     "base_uri": "https://localhost:8080/",
     "height": 393
    },
    "colab_type": "code",
    "executionInfo": {
     "elapsed": 568,
     "status": "ok",
     "timestamp": 1529937811197,
     "user": {
      "displayName": "Yannis Tannier",
      "photoUrl": "https://lh3.googleusercontent.com/a/default-user=s128",
      "userId": "108736081945991821881"
     },
     "user_tz": -120
    },
    "id": "KdgX21phZkUG",
    "outputId": "5c35716c-0afe-4a99-e430-56ac7805b283"
   },
   "outputs": [
    {
     "name": "stderr",
     "output_type": "stream",
     "text": [
      "No handles with labels found to put in legend.\n"
     ]
    },
    {
     "data": {
      "image/png": "[encoded data removed]",
      "text/plain": [
       "<matplotlib.figure.Figure at 0x7f900cb47d30>"
      ]
     },
     "metadata": {
      "tags": []
     },
     "output_type": "display_data"
    }
   ],
   "source": [
    "ax = plt.gca()\n",
    "plt.title(\"Loss\")\n",
    "plt.plot(loss_a2, \"b\")\n",
    "plt.legend()\n",
    "plt.xlabel('epochs')\n",
    "plt.show()"
   ]
  },
  {
   "cell_type": "markdown",
   "metadata": {
    "colab_type": "text",
    "id": "7lWlAXNlSTt6"
   },
   "source": [
    "### Third CNN"
   ]
  },
  {
   "cell_type": "markdown",
   "metadata": {
    "colab_type": "text",
    "id": "UDgh0J3G3csA"
   },
   "source": [
    "Archi :\n",
    "\n",
    "INPUT => Conv => Relu => Pool (max) => norm LRN  => Conv  => Relu => Pool (max) => norm LRN => Conv  => Relu => Pool (max) => norm LRN => FC (with dropout rate=0.5)\n",
    "\n",
    "Optimizer : \n",
    "- Adam\n",
    "- progressive learning rate\n",
    "\n",
    "Conv :\n",
    "- filters : 32 /  64 / 128\n",
    "- receptive field : 3\n",
    "- stride : 1\n",
    "- zero margin : 1\n",
    "\n",
    "\n",
    "Max pooling :\n",
    "- size : 2\n",
    "- stride : 2\n",
    "- zero padding : 1"
   ]
  },
  {
   "cell_type": "code",
   "execution_count": 40,
   "metadata": {
    "colab": {
     "autoexec": {
      "startup": false,
      "wait_interval": 0
     },
     "base_uri": "https://localhost:8080/",
     "height": 289
    },
    "colab_type": "code",
    "executionInfo": {
     "elapsed": 947734,
     "status": "ok",
     "timestamp": 1529936919367,
     "user": {
      "displayName": "Yannis Tannier",
      "photoUrl": "https://lh3.googleusercontent.com/a/default-user=s128",
      "userId": "108736081945991821881"
     },
     "user_tz": -120
    },
    "id": "ibUjNp5gSVKv",
    "outputId": "da025281-8988-49b0-94dc-b108d6efcc8c"
   },
   "outputs": [
    {
     "name": "stdout",
     "output_type": "stream",
     "text": [
      "epoch:  0 Training accuracy: 0.48204 Validation accuracy: 0.4816\n",
      "epoch:  2 Training accuracy: 0.66348 Validation accuracy: 0.6465\n",
      "epoch:  4 Training accuracy: 0.73796 Validation accuracy: 0.6826\n",
      "epoch:  6 Training accuracy: 0.76156 Validation accuracy: 0.6736\n",
      "epoch:  8 Training accuracy: 0.84084 Validation accuracy: 0.7084\n",
      "epoch:  10 Training accuracy: 0.85932 Validation accuracy: 0.7002\n",
      "epoch:  12 Training accuracy: 0.88608 Validation accuracy: 0.6921\n",
      "epoch:  14 Training accuracy: 0.90976 Validation accuracy: 0.6851\n",
      "epoch:  16 Training accuracy: 0.95924 Validation accuracy: 0.7213\n",
      "epoch:  18 Training accuracy: 0.97328 Validation accuracy: 0.7154\n",
      "epoch:  20 Training accuracy: 0.99304 Validation accuracy: 0.723\n",
      "epoch:  22 Training accuracy: 0.98476 Validation accuracy: 0.7019\n",
      "epoch:  24 Training accuracy: 0.9998 Validation accuracy: 0.7367\n",
      "epoch:  26 Training accuracy: 1.0 Validation accuracy: 0.7426\n",
      "epoch:  28 Training accuracy: 1.0 Validation accuracy: 0.7431\n",
      "epoch:  30 Training accuracy: 1.0 Validation accuracy: 0.7427\n"
     ]
    }
   ],
   "source": [
    "def lr(epoch):\n",
    "    learning_rate = 1e-3\n",
    "    if epoch > 90:\n",
    "        learning_rate *= 0.5e-3\n",
    "    elif epoch > 70:\n",
    "        learning_rate *= 1e-3\n",
    "    elif epoch > 50:\n",
    "        learning_rate *= 1e-2\n",
    "    elif epoch > 25:\n",
    "        learning_rate *= 1e-1\n",
    "    return learning_rate\n",
    "\n",
    "  \n",
    "with tf.device(\"/device:GPU:0\"):\n",
    "  tf.reset_default_graph()\n",
    "  X = tf.placeholder(tf.float32, shape=(None, height, width, channels), name=\"X\")\n",
    "  y = tf.placeholder(tf.int32, shape=(None), name=\"y\")\n",
    "  learning_rate = tf.placeholder(tf.float32, shape=[], name='learning_rate')\n",
    "  \n",
    "  \n",
    "  #first conv layer : \n",
    "  convolution = tf.layers.conv2d(X, filters=32, kernel_size=3 ,strides=[1,1], padding=\"SAME\")\n",
    "  relu_layer = tf.nn.relu(convolution)\n",
    "  #first pooling :\n",
    "  max_pool = tf.nn.max_pool(relu_layer, ksize=[1,2,2,1], strides=[1,2,2,1], padding=\"SAME\")\n",
    "  norm1 = tf.nn.local_response_normalization(max_pool)\n",
    "  \n",
    "  #second conv layer : \n",
    "  convolution2 = tf.layers.conv2d(norm1, filters=64, kernel_size=3 ,strides=[1,1], padding=\"SAME\")\n",
    "  relu_layer2 = tf.nn.relu(convolution2)\n",
    "  #max_pool2 = tf.nn.max_pool(relu_layer2, ksize=[1,2,2,1], strides=[1,2,2,1], padding=\"SAME\")\n",
    "  norm2 = tf.nn.local_response_normalization(relu_layer2)\n",
    "  \n",
    "  #second conv layer : \n",
    "  convolution3 = tf.layers.conv2d(norm2, filters=128, kernel_size=3 ,strides=[1,1], padding=\"SAME\")\n",
    "  relu_layer3 = tf.nn.relu(convolution3)\n",
    "  max_pool3 = tf.nn.max_pool(relu_layer3, ksize=[1,2,2,1], strides=[1,2,2,1], padding=\"SAME\")\n",
    "  norm3 = tf.nn.local_response_normalization(max_pool3)\n",
    "  \n",
    "  \n",
    "  # FULLY CONNECTED : ----- n_neurones = 16x16x12 = 3072\n",
    "  pool2_flat = tf.reshape(norm3, [-1, 8 * 8 * 128])\n",
    "  hidden1 = tf.layers.dense(pool2_flat, 3072, name=\"hidden1\", activation=tf.nn.relu)\n",
    "  dropout = tf.layers.dropout(hidden1, rate=0.5)\n",
    "  \n",
    "  # logits :\n",
    "  logits = tf.layers.dense(dropout, 10)\n",
    "  \n",
    "  xentropy = tf.nn.sparse_softmax_cross_entropy_with_logits(labels=y, logits=logits)  # entropie croisée\n",
    "  loss = tf.reduce_mean(xentropy)  # loss\n",
    "\n",
    "  \n",
    "  # Decay the learning rate exponentially based on the number of steps.\n",
    "  \n",
    "  optimizer = tf.train.AdamOptimizer(learning_rate=learning_rate,beta1=0.9,beta2=0.999,epsilon=1e-08)\n",
    "  training_op = optimizer.minimize(loss)\n",
    "  \n",
    "  #EVAL : \n",
    "  correct = tf.nn.in_top_k(logits, y, 1)\n",
    "  accuracy = tf.reduce_mean(tf.cast(correct, tf.float32), name=\"accuracy\")\n",
    "  \n",
    "  init = tf.global_variables_initializer()\n",
    "  n_epoch = 31\n",
    "\n",
    "  x_train_batch = np.split(x_train, batch/batch_size)\n",
    "  y_train_batch = np.split(y_train, batch/batch_size)\n",
    "  \n",
    "  acc_t3 = []\n",
    "  acc_v3 = []\n",
    "  loss_a3 = []\n",
    "\n",
    "  with tf.Session() as sess:\n",
    "      init.run()\n",
    "      for n in range(n_epoch):\n",
    "          for index, X_t in enumerate(x_train_batch):\n",
    "              sess.run(training_op, feed_dict={X:X_t, y:y_train_batch[index].reshape(-1), learning_rate:lr(n)})\n",
    "          \n",
    "          acc_train = accuracy.eval(feed_dict={X: x_train[0:25000], y: y_train[0:25000].reshape(-1)})\n",
    "          acc_valid = accuracy.eval(feed_dict={X: x_test, y: y_test.reshape(-1)})\n",
    "          loss_a3.append(loss.eval(feed_dict={X: x_train[0:25000], y: y_train[0:25000].reshape(-1)}))\n",
    "          acc_t3.append(acc_train)\n",
    "          acc_v3.append(acc_valid)\n",
    "          \n",
    "          if n%2==0:\n",
    "            print(\"epoch: \", n, \"Training accuracy:\", acc_train, \"Validation accuracy:\", acc_valid)"
   ]
  },
  {
   "cell_type": "code",
   "execution_count": 44,
   "metadata": {
    "colab": {
     "autoexec": {
      "startup": false,
      "wait_interval": 0
     },
     "base_uri": "https://localhost:8080/",
     "height": 376
    },
    "colab_type": "code",
    "executionInfo": {
     "elapsed": 566,
     "status": "ok",
     "timestamp": 1529937833613,
     "user": {
      "displayName": "Yannis Tannier",
      "photoUrl": "https://lh3.googleusercontent.com/a/default-user=s128",
      "userId": "108736081945991821881"
     },
     "user_tz": -120
    },
    "id": "zKPST8llZpgw",
    "outputId": "e3b6980c-2e10-4433-98a3-1f6b4d4cf4c4"
   },
   "outputs": [
    {
     "data": {
      "image/png": "[encoded data removed]",
      "text/plain": [
       "<matplotlib.figure.Figure at 0x7f90327079b0>"
      ]
     },
     "metadata": {
      "tags": []
     },
     "output_type": "display_data"
    }
   ],
   "source": [
    "ax = plt.gca()\n",
    "ax.invert_yaxis()\n",
    "plt.title(\"Accuracy (%) model\")\n",
    "plt.plot(acc_t3, \"b\", label=\"training\")\n",
    "plt.plot(acc_v3, 'r', label=\"validation\")\n",
    "plt.legend()\n",
    "plt.xlabel('epochs')\n",
    "plt.show()"
   ]
  },
  {
   "cell_type": "code",
   "execution_count": 45,
   "metadata": {
    "colab": {
     "autoexec": {
      "startup": false,
      "wait_interval": 0
     },
     "base_uri": "https://localhost:8080/",
     "height": 393
    },
    "colab_type": "code",
    "executionInfo": {
     "elapsed": 572,
     "status": "ok",
     "timestamp": 1529937857512,
     "user": {
      "displayName": "Yannis Tannier",
      "photoUrl": "https://lh3.googleusercontent.com/a/default-user=s128",
      "userId": "108736081945991821881"
     },
     "user_tz": -120
    },
    "id": "_VKkXznvZu7z",
    "outputId": "aee4369a-e14e-453d-cf21-6e1d015df5e6"
   },
   "outputs": [
    {
     "name": "stderr",
     "output_type": "stream",
     "text": [
      "No handles with labels found to put in legend.\n"
     ]
    },
    {
     "data": {
      "image/png": "[encoded data removed]",
      "text/plain": [
       "<matplotlib.figure.Figure at 0x7f900bee4828>"
      ]
     },
     "metadata": {
      "tags": []
     },
     "output_type": "display_data"
    }
   ],
   "source": [
    "ax = plt.gca()\n",
    "plt.title(\"Loss\")\n",
    "plt.plot(loss_a3, \"b\")\n",
    "plt.legend()\n",
    "plt.xlabel('epochs')\n",
    "plt.show()"
   ]
  },
  {
   "cell_type": "markdown",
   "metadata": {
    "colab_type": "text",
    "id": "fOueVgkXoYBq"
   },
   "source": [
    "### fourth CNN"
   ]
  },
  {
   "cell_type": "markdown",
   "metadata": {
    "colab_type": "text",
    "id": "z81vH0az4MLj"
   },
   "source": [
    "Archi :\n",
    "\n",
    "INPUT => Conv (Relu) => Conv (Relu) => Pool (max) =>  norm LRN => Conv (Relu) => Pool (max) => Conv (Relu) => Pool (max) =>  norm LRN => FC (with dropout rate=0.5)\n",
    "\n",
    "Optimizer : \n",
    "- Adam\n",
    "- progressive learning rate\n",
    "\n",
    "Conv :\n",
    "- filters : 32 /  64 / 128 / 128\n",
    "- receptive field : 3\n",
    "- stride : 1\n",
    "- zero margin : 1\n",
    "\n",
    "\n",
    "Max pooling :\n",
    "- size : 2\n",
    "- stride : 2\n",
    "- zero padding : 1"
   ]
  },
  {
   "cell_type": "code",
   "execution_count": 41,
   "metadata": {
    "colab": {
     "autoexec": {
      "startup": false,
      "wait_interval": 0
     },
     "base_uri": "https://localhost:8080/",
     "height": 323
    },
    "colab_type": "code",
    "executionInfo": {
     "elapsed": 759503,
     "status": "ok",
     "timestamp": 1529937678894,
     "user": {
      "displayName": "Yannis Tannier",
      "photoUrl": "https://lh3.googleusercontent.com/a/default-user=s128",
      "userId": "108736081945991821881"
     },
     "user_tz": -120
    },
    "id": "XlisU0BaSmfu",
    "outputId": "fd516650-2099-41e5-a134-3ce45774651d"
   },
   "outputs": [
    {
     "name": "stdout",
     "output_type": "stream",
     "text": [
      "0 Training accuracy: 0.3749 Validation accuracy: 0.378\n",
      "2 Training accuracy: 0.6714 Validation accuracy: 0.6545\n",
      "4 Training accuracy: 0.7618 Validation accuracy: 0.7237\n",
      "6 Training accuracy: 0.7913 Validation accuracy: 0.7208\n",
      "8 Training accuracy: 0.8089 Validation accuracy: 0.724\n",
      "10 Training accuracy: 0.8606 Validation accuracy: 0.7446\n",
      "12 Training accuracy: 0.8688 Validation accuracy: 0.7365\n",
      "14 Training accuracy: 0.9021 Validation accuracy: 0.7486\n",
      "16 Training accuracy: 0.913 Validation accuracy: 0.7484\n",
      "18 Training accuracy: 0.9362 Validation accuracy: 0.7468\n",
      "20 Training accuracy: 0.9584 Validation accuracy: 0.7437\n",
      "22 Training accuracy: 0.9691 Validation accuracy: 0.7575\n",
      "24 Training accuracy: 0.9785 Validation accuracy: 0.7547\n",
      "26 Training accuracy: 0.9998 Validation accuracy: 0.7769\n",
      "28 Training accuracy: 1.0 Validation accuracy: 0.7773\n",
      "30 Training accuracy: 1.0 Validation accuracy: 0.7781\n",
      "32 Training accuracy: 1.0 Validation accuracy: 0.7779\n",
      "34 Training accuracy: 1.0 Validation accuracy: 0.7779\n"
     ]
    }
   ],
   "source": [
    "def lr(epoch):\n",
    "    learning_rate = 1e-3\n",
    "    if epoch > 90:\n",
    "        learning_rate *= 0.5e-3\n",
    "    elif epoch > 70:\n",
    "        learning_rate *= 1e-3\n",
    "    elif epoch > 50:\n",
    "        learning_rate *= 1e-2\n",
    "    elif epoch > 25:\n",
    "        learning_rate *= 1e-1\n",
    "    return learning_rate\n",
    "\n",
    "  \n",
    "with tf.device(\"/device:GPU:0\"):\n",
    "  tf.reset_default_graph()\n",
    "  X = tf.placeholder(tf.float32, shape=(None, height, width, channels), name=\"X\")\n",
    "  y = tf.placeholder(tf.int32, shape=(None), name=\"y\")\n",
    "  learning_rate = tf.placeholder(tf.float32, shape=[], name='learning_rate')\n",
    "  \n",
    "  \n",
    "  #first conv layer : \n",
    "  convolution = tf.layers.conv2d(X, filters=32, kernel_size=3 ,strides=[1,1], padding=\"SAME\", activation=tf.nn.relu)\n",
    "  conv = tf.layers.conv2d(convolution, filters=64, kernel_size=3 ,strides=[1,1], padding=\"SAME\", activation=tf.nn.relu)\n",
    "  \n",
    "  pool = tf.layers.max_pooling2d(conv, pool_size=[2, 2], strides=2, padding='SAME')\n",
    "  norm = tf.nn.local_response_normalization(pool)\n",
    "  \n",
    "  #second conv layer : \n",
    "  conv2 = tf.layers.conv2d(norm, filters=128, kernel_size=3 ,strides=[1,1], padding=\"SAME\", activation=tf.nn.relu)\n",
    "  pool2 = tf.layers.max_pooling2d(conv2, pool_size=[2, 2], strides=2, padding='SAME')\n",
    "  \n",
    "  conv3 = tf.layers.conv2d(pool2, filters=128, kernel_size=3 ,strides=[1,1], padding=\"SAME\", activation=tf.nn.relu)\n",
    "  pool3 = tf.layers.max_pooling2d(conv3, pool_size=[2, 2], strides=2, padding='SAME')\n",
    "  norm3 = tf.nn.local_response_normalization(pool3)\n",
    "  \n",
    "  \n",
    "  # FULLY CONNECTED : ----- n_neurones = 16x16x12 = 3072\n",
    "  pool2_flat = tf.reshape(norm3, [-1, 4 * 4 * 128])\n",
    "  hidden1 = tf.layers.dense(pool2_flat, 3072, name=\"hidden1\", activation=tf.nn.relu)\n",
    "  dropout = tf.layers.dropout(hidden1, rate=0.5)\n",
    "  \n",
    "  # logits :\n",
    "  logits = tf.layers.dense(dropout, 10)\n",
    "  \n",
    "  xentropy = tf.nn.sparse_softmax_cross_entropy_with_logits(labels=y, logits=logits)  # entropie croisée\n",
    "  loss = tf.reduce_mean(xentropy)  # loss\n",
    "\n",
    "  \n",
    "  # Decay the learning rate exponentially based on the number of steps.\n",
    "  \n",
    "  optimizer = tf.train.AdamOptimizer(learning_rate=learning_rate,beta1=0.9,beta2=0.999,epsilon=1e-08)\n",
    "  training_op = optimizer.minimize(loss)\n",
    "  \n",
    "  #EVAL : \n",
    "  correct = tf.nn.in_top_k(logits, y, 1)\n",
    "  accuracy = tf.reduce_mean(tf.cast(correct, tf.float32), name=\"accuracy\")\n",
    "  \n",
    "  init = tf.global_variables_initializer()\n",
    "  n_epoch = 35\n",
    "\n",
    "  x_train_batch = np.split(x_train, batch/batch_size)\n",
    "  y_train_batch = np.split(y_train, batch/batch_size)\n",
    "  \n",
    "  acc_t4 = []\n",
    "  acc_v4 = []\n",
    "  loss_a4 = []\n",
    "\n",
    "  with tf.Session() as sess:\n",
    "      init.run()\n",
    "      for n in range(n_epoch):\n",
    "          for index, X_t in enumerate(x_train_batch):\n",
    "              sess.run(training_op, feed_dict={X:X_t, y:y_train_batch[index].reshape(-1), learning_rate:lr(n)})\n",
    "          \n",
    "          acc_train = accuracy.eval(feed_dict={X: x_train[0:10000], y: y_train[0:10000].reshape(-1)})\n",
    "          acc_valid = accuracy.eval(feed_dict={X: x_test, y: y_test.reshape(-1)})\n",
    "          loss_a4.append(loss.eval(feed_dict={X: x_train[0:10000], y: y_train[0:10000].reshape(-1)}))\n",
    "          acc_t4.append(acc_train)\n",
    "          acc_v4.append(acc_valid)\n",
    "          if n%2==0:\n",
    "            print(n, \"Training accuracy:\", acc_train, \"Validation accuracy:\", acc_valid)"
   ]
  },
  {
   "cell_type": "code",
   "execution_count": 46,
   "metadata": {
    "colab": {
     "autoexec": {
      "startup": false,
      "wait_interval": 0
     },
     "base_uri": "https://localhost:8080/",
     "height": 376
    },
    "colab_type": "code",
    "executionInfo": {
     "elapsed": 639,
     "status": "ok",
     "timestamp": 1529937876718,
     "user": {
      "displayName": "Yannis Tannier",
      "photoUrl": "https://lh3.googleusercontent.com/a/default-user=s128",
      "userId": "108736081945991821881"
     },
     "user_tz": -120
    },
    "id": "CEBh-EBHpkwr",
    "outputId": "7159d38d-fc56-4502-a527-a306cbafc1ee"
   },
   "outputs": [
    {
     "data": {
      "image/png": "[encoded data removed]",
      "text/plain": [
       "<matplotlib.figure.Figure at 0x7f900bdb34a8>"
      ]
     },
     "metadata": {
      "tags": []
     },
     "output_type": "display_data"
    }
   ],
   "source": [
    "ax = plt.gca()\n",
    "ax.invert_yaxis()\n",
    "plt.title(\"Accuracy (%) model\")\n",
    "plt.plot(acc_t4, \"b\", label=\"training\")\n",
    "plt.plot(acc_v4, 'r', label=\"validation\")\n",
    "plt.legend()\n",
    "plt.xlabel('epochs')\n",
    "plt.show()"
   ]
  },
  {
   "cell_type": "code",
   "execution_count": 47,
   "metadata": {
    "colab": {
     "autoexec": {
      "startup": false,
      "wait_interval": 0
     },
     "base_uri": "https://localhost:8080/",
     "height": 393
    },
    "colab_type": "code",
    "executionInfo": {
     "elapsed": 580,
     "status": "ok",
     "timestamp": 1529937893557,
     "user": {
      "displayName": "Yannis Tannier",
      "photoUrl": "https://lh3.googleusercontent.com/a/default-user=s128",
      "userId": "108736081945991821881"
     },
     "user_tz": -120
    },
    "id": "J_FuBVgfZ1QT",
    "outputId": "ee1c81ad-3ad4-47e5-cf92-9ec3a9b9bd81"
   },
   "outputs": [
    {
     "name": "stderr",
     "output_type": "stream",
     "text": [
      "No handles with labels found to put in legend.\n"
     ]
    },
    {
     "data": {
      "image/png": "[encoded data removed]",
      "text/plain": [
       "<matplotlib.figure.Figure at 0x7f900bdb8c50>"
      ]
     },
     "metadata": {
      "tags": []
     },
     "output_type": "display_data"
    }
   ],
   "source": [
    "ax = plt.gca()\n",
    "plt.title(\"Loss\")\n",
    "plt.plot(loss_a4, \"b\")\n",
    "plt.legend()\n",
    "plt.xlabel('epochs')\n",
    "plt.show()"
   ]
  },
  {
   "cell_type": "code",
   "execution_count": 0,
   "metadata": {
    "colab": {
     "autoexec": {
      "startup": false,
      "wait_interval": 0
     }
    },
    "colab_type": "code",
    "id": "DgJ3UA7KZ5YL"
   },
   "outputs": [],
   "source": []
  },
  {
   "cell_type": "markdown",
   "metadata": {
    "colab_type": "text",
    "id": "j6xsHotjaDDn"
   },
   "source": [
    "### Comparaison "
   ]
  },
  {
   "cell_type": "code",
   "execution_count": 50,
   "metadata": {
    "colab": {
     "autoexec": {
      "startup": false,
      "wait_interval": 0
     },
     "base_uri": "https://localhost:8080/",
     "height": 376
    },
    "colab_type": "code",
    "executionInfo": {
     "elapsed": 588,
     "status": "ok",
     "timestamp": 1529938015809,
     "user": {
      "displayName": "Yannis Tannier",
      "photoUrl": "https://lh3.googleusercontent.com/a/default-user=s128",
      "userId": "108736081945991821881"
     },
     "user_tz": -120
    },
    "id": "FG1kH7P9aEf0",
    "outputId": "a02d3bad-a647-459e-eefc-9f2614bd4a14"
   },
   "outputs": [
    {
     "data": {
      "image/png": "[encoded data removed]",
      "text/plain": [
       "<matplotlib.figure.Figure at 0x7f903272da20>"
      ]
     },
     "metadata": {
      "tags": []
     },
     "output_type": "display_data"
    }
   ],
   "source": [
    "ax = plt.gca()\n",
    "ax.invert_yaxis()\n",
    "plt.title(\"Accuracy (%) model\")\n",
    "plt.plot(acc_v2, label=\"validation cnn 2\")\n",
    "plt.plot(acc_v3, label=\"validation cnn 3\")\n",
    "plt.plot(acc_v4, label=\"validation cnn 4\")\n",
    "plt.legend()\n",
    "plt.xlabel('epochs')\n",
    "plt.show()"
   ]
  },
  {
   "cell_type": "code",
   "execution_count": 51,
   "metadata": {
    "colab": {
     "autoexec": {
      "startup": false,
      "wait_interval": 0
     },
     "base_uri": "https://localhost:8080/",
     "height": 393
    },
    "colab_type": "code",
    "executionInfo": {
     "elapsed": 502,
     "status": "ok",
     "timestamp": 1529938047553,
     "user": {
      "displayName": "Yannis Tannier",
      "photoUrl": "https://lh3.googleusercontent.com/a/default-user=s128",
      "userId": "108736081945991821881"
     },
     "user_tz": -120
    },
    "id": "XmIqQlFVaMyz",
    "outputId": "4ff763bb-5aa4-4e68-81a7-2ed6ec4f6d4c"
   },
   "outputs": [
    {
     "name": "stderr",
     "output_type": "stream",
     "text": [
      "No handles with labels found to put in legend.\n"
     ]
    },
    {
     "data": {
      "image/png": "[encoded data removed]",
      "text/plain": [
       "<matplotlib.figure.Figure at 0x7f8fe3633048>"
      ]
     },
     "metadata": {
      "tags": []
     },
     "output_type": "display_data"
    }
   ],
   "source": [
    "ax = plt.gca()\n",
    "plt.title(\"Loss\")\n",
    "plt.plot(loss_a2)\n",
    "plt.plot(loss_a3)\n",
    "plt.plot(loss_a4)\n",
    "plt.legend()\n",
    "plt.xlabel('epochs')\n",
    "plt.show()"
   ]
  },
  {
   "cell_type": "markdown",
   "metadata": {
    "colab": {
     "autoexec": {
      "startup": false,
      "wait_interval": 0
     }
    },
    "colab_type": "code",
    "id": "lYnKj7d7ae_K"
   },
   "source": [
    "### With data augmentation"
   ]
  },
  {
   "cell_type": "code",
   "execution_count": 3,
   "metadata": {},
   "outputs": [],
   "source": [
    "from cifar import *"
   ]
  },
  {
   "cell_type": "code",
   "execution_count": 10,
   "metadata": {},
   "outputs": [
    {
     "name": "stdout",
     "output_type": "stream",
     "text": [
      "0 Training accuracy: 0.45921474358974357 Validation accuracy: 0.5953999999910593  lr :  0.001\n",
      "1 Training accuracy: 0.6518028846153846 Validation accuracy: 0.7001000009477139  lr :  0.001\n",
      "2 Training accuracy: 0.7347956730769231 Validation accuracy: 0.7494000010192394  lr :  0.001\n",
      "3 Training accuracy: 0.778525641025641 Validation accuracy: 0.7695000030100345  lr :  0.001\n",
      "4 Training accuracy: 0.8064703525641026 Validation accuracy: 0.7877999983727932  lr :  0.001\n",
      "5 Training accuracy: 0.8236378205128205 Validation accuracy: 0.7955000028014183  lr :  0.001\n",
      "6 Training accuracy: 0.8393830128205129 Validation accuracy: 0.8075000010430813  lr :  0.001\n",
      "7 Training accuracy: 0.85078125 Validation accuracy: 0.8083999998867512  lr :  0.001\n",
      "8 Training accuracy: 0.8661258012820513 Validation accuracy: 0.8155000008642673  lr :  0.001\n",
      "9 Training accuracy: 0.8759214743589744 Validation accuracy: 0.8134999997913838  lr :  0.001\n",
      "10 Training accuracy: 0.8873798076923077 Validation accuracy: 0.8183000020682811  lr :  0.001\n",
      "11 Training accuracy: 0.8965144230769231 Validation accuracy: 0.8343999981880188  lr :  0.001\n",
      "12 Training accuracy: 0.9048277243589744 Validation accuracy: 0.8171000003814697  lr :  0.001\n",
      "13 Training accuracy: 0.9110376602564103 Validation accuracy: 0.8201999999582767  lr :  0.001\n",
      "14 Training accuracy: 0.9191706730769231 Validation accuracy: 0.8311999991536141  lr :  0.001\n",
      "15 Training accuracy: 0.9256209935897436 Validation accuracy: 0.8232000008225441  lr :  0.001\n",
      "16 Training accuracy: 0.9309495192307692 Validation accuracy: 0.8342999972403049  lr :  0.001\n",
      "17 Training accuracy: 0.9350761217948718 Validation accuracy: 0.8429000027477741  lr :  0.001\n",
      "18 Training accuracy: 0.9420472756410256 Validation accuracy: 0.8346999987959862  lr :  0.001\n",
      "19 Training accuracy: 0.9463541666666667 Validation accuracy: 0.8411000020802021  lr :  0.001\n",
      "20 Training accuracy: 0.9497395833333333 Validation accuracy: 0.8439999982714653  lr :  0.001\n",
      "21 Training accuracy: 0.9545472756410256 Validation accuracy: 0.8470999993383884  lr :  0.001\n",
      "22 Training accuracy: 0.9565304487179487 Validation accuracy: 0.8382000029087067  lr :  0.001\n",
      "23 Training accuracy: 0.9610576923076923 Validation accuracy: 0.8384999990463257  lr :  0.001\n",
      "24 Training accuracy: 0.9607371794871795 Validation accuracy: 0.8430000014603138  lr :  0.001\n",
      "25 Training accuracy: 0.9651041666666667 Validation accuracy: 0.8440999992191791  lr :  0.001\n",
      "26 Training accuracy: 0.9531850961538462 Validation accuracy: 0.86260000243783  lr :  0.0001\n",
      "27 Training accuracy: 0.9616386217948718 Validation accuracy: 0.8634999983012677  lr :  0.0001\n",
      "28 Training accuracy: 0.9638822115384615 Validation accuracy: 0.8665999986231328  lr :  0.0001\n",
      "29 Training accuracy: 0.9643830128205129 Validation accuracy: 0.8661999993026257  lr :  0.0001\n",
      "30 Training accuracy: 0.967948717948718 Validation accuracy: 0.8669000007212162  lr :  0.0001\n",
      "31 Training accuracy: 0.9693309294871795 Validation accuracy: 0.8677000030875206  lr :  0.0001\n",
      "32 Training accuracy: 0.9700320512820513 Validation accuracy: 0.8665000006556511  lr :  0.0001\n",
      "33 Training accuracy: 0.9714342948717949 Validation accuracy: 0.8679999992251396  lr :  0.0001\n",
      "34 Training accuracy: 0.9728365384615385 Validation accuracy: 0.8700999990105629  lr :  0.0001\n",
      "35 Training accuracy: 0.9743990384615384 Validation accuracy: 0.8693999990820884  lr :  0.0001\n",
      "36 Training accuracy: 0.9762820512820513 Validation accuracy: 0.8683999992907048  lr :  0.0001\n",
      "37 Training accuracy: 0.9758613782051282 Validation accuracy: 0.8665000014007092  lr :  0.0001\n",
      "38 Training accuracy: 0.9767628205128205 Validation accuracy: 0.8676000028848648  lr :  0.0001\n",
      "39 Training accuracy: 0.9787059294871795 Validation accuracy: 0.8707000009715558  lr :  0.0001\n",
      "40 Training accuracy: 0.9787059294871795 Validation accuracy: 0.8707999989390374  lr :  0.0001\n",
      "41 Training accuracy: 0.9797475961538461 Validation accuracy: 0.8703999981284142  lr :  0.0001\n",
      "42 Training accuracy: 0.9794070512820513 Validation accuracy: 0.8685000009834767  lr :  0.0001\n",
      "43 Training accuracy: 0.9810897435897435 Validation accuracy: 0.8698000006377697  lr :  0.0001\n",
      "44 Training accuracy: 0.9813701923076923 Validation accuracy: 0.8734000004827976  lr :  0.0001\n",
      "45 Training accuracy: 0.9817107371794872 Validation accuracy: 0.8690000019967556  lr :  0.0001\n",
      "46 Training accuracy: 0.9827323717948718 Validation accuracy: 0.8711000002920628  lr :  0.0001\n",
      "47 Training accuracy: 0.9838541666666667 Validation accuracy: 0.8706000007688999  lr :  0.0001\n",
      "48 Training accuracy: 0.9844350961538462 Validation accuracy: 0.8722000010311604  lr :  0.0001\n",
      "49 Training accuracy: 0.9842347756410257 Validation accuracy: 0.8703999996185303  lr :  0.0001\n"
     ]
    }
   ],
   "source": [
    "def lr(epoch):\n",
    "    learning_rate = 1e-3\n",
    "    if epoch > 90:\n",
    "        learning_rate *= 0.5e-3\n",
    "    elif epoch > 70:\n",
    "        learning_rate *= 1e-3\n",
    "    elif epoch > 50:\n",
    "        learning_rate *= 1e-2\n",
    "    elif epoch > 25:\n",
    "        learning_rate *= 1e-1\n",
    "    return learning_rate\n",
    "\n",
    "  \n",
    "with tf.device(\"/device:GPU:0\"):\n",
    "    tf.reset_default_graph()\n",
    "    X = tf.placeholder(tf.float32, shape=(None, height, width, channels), name=\"X\")\n",
    "    y = tf.placeholder(tf.int32, shape=(None), name=\"y\")\n",
    "    learning_rate = tf.placeholder(tf.float32, shape=[], name='learning_rate')\n",
    "\n",
    "\n",
    "    #first conv layer : \n",
    "    convolution = tf.layers.conv2d(X, filters=32, kernel_size=3 ,strides=[1,1], padding=\"SAME\", activation=tf.nn.relu)\n",
    "    conv = tf.layers.conv2d(convolution, filters=64, kernel_size=3 ,strides=[1,1], padding=\"SAME\", activation=tf.nn.relu)\n",
    "\n",
    "    pool = tf.layers.max_pooling2d(conv, pool_size=[2, 2], strides=2, padding='SAME')\n",
    "    norm = tf.nn.local_response_normalization(pool)\n",
    "\n",
    "    #second conv layer : \n",
    "    conv2 = tf.layers.conv2d(norm, filters=128, kernel_size=3 ,strides=[1,1], padding=\"SAME\", activation=tf.nn.relu)\n",
    "    pool2 = tf.layers.max_pooling2d(conv2, pool_size=[2, 2], strides=2, padding='SAME')\n",
    "\n",
    "    conv3 = tf.layers.conv2d(pool2, filters=128, kernel_size=3 ,strides=[1,1], padding=\"SAME\", activation=tf.nn.relu)\n",
    "    pool3 = tf.layers.max_pooling2d(conv3, pool_size=[2, 2], strides=2, padding='SAME')\n",
    "    norm3 = tf.nn.local_response_normalization(pool3)\n",
    "\n",
    "\n",
    "    # FULLY CONNECTED : ----- n_neurones = 16x16x12 = 3072\n",
    "    pool2_flat = tf.reshape(norm3, [-1, 4 * 4 * 128])\n",
    "    hidden1 = tf.layers.dense(pool2_flat, 3072, name=\"hidden1\", activation=tf.nn.relu)\n",
    "    dropout = tf.layers.dropout(hidden1, rate=0.5)\n",
    "\n",
    "    # logits :\n",
    "    logits = tf.layers.dense(dropout, 10)\n",
    "\n",
    "    xentropy = tf.nn.sparse_softmax_cross_entropy_with_logits(labels=y, logits=logits)  # entropie croisée\n",
    "    loss = tf.reduce_mean(xentropy)  # loss\n",
    "\n",
    "\n",
    "    # Decay the learning rate exponentially based on the number of steps.\n",
    "\n",
    "    optimizer = tf.train.AdamOptimizer(learning_rate=learning_rate,beta1=0.9,beta2=0.999,epsilon=1e-08)\n",
    "    training_op = optimizer.minimize(loss)\n",
    "\n",
    "    #EVAL : \n",
    "    correct = tf.nn.in_top_k(logits, y, 1)\n",
    "    accuracy = tf.reduce_mean(tf.cast(correct, tf.float32), name=\"accuracy\")\n",
    "\n",
    "    init = tf.global_variables_initializer()\n",
    "    n_epoch = 35\n",
    "\n",
    "    x_train_batch = np.split(x_train, batch/batch_size)\n",
    "    y_train_batch = np.split(y_train, batch/batch_size)\n",
    "\n",
    "    acc_t4 = []\n",
    "    acc_v4 = []\n",
    "    loss_a4 = []\n",
    "\n",
    "    with tf.Session() as sess:\n",
    "        init.run()\n",
    "        dataset = Cifar10(128)\n",
    "        \n",
    "        for n in range(50):\n",
    "            total_loss = 0.0\n",
    "            total_accuracy = 0.0\n",
    "            \n",
    "            for j in range(dataset.train_batch_count):\n",
    "                batch_images, batch_labels = dataset.next_aug_train_batch(j)\n",
    "                sess.run(training_op, feed_dict={X:batch_images, y:batch_labels.reshape(-1), learning_rate:lr(n)})\n",
    "                acc_train = accuracy.eval(feed_dict={X: batch_images, y: batch_labels.reshape(-1)})\n",
    "                \n",
    "                total_accuracy += acc_train\n",
    "\n",
    "            total_accuracy /= dataset.train_batch_count\n",
    "            \n",
    "            total_accuracy_test = 0.0\n",
    "            for k in range(dataset.test_batch_count):\n",
    "                batch_images, batch_labels = dataset.next_test_batch(k)\n",
    "                acc_test = accuracy.eval(feed_dict={X: batch_images, y: batch_labels.reshape(-1)})   \n",
    "                total_accuracy_test += acc_test \n",
    "            \n",
    "            total_accuracy_test /= dataset.test_batch_count\n",
    "            acc_t4.append(total_accuracy)\n",
    "            acc_v4.append(total_accuracy_test)    \n",
    "                \n",
    "            print(n, \"Training accuracy:\", total_accuracy, \"Validation accuracy:\", total_accuracy_test, \" lr : \", lr(n))"
   ]
  },
  {
   "cell_type": "code",
   "execution_count": null,
   "metadata": {},
   "outputs": [],
   "source": []
  }
 ],
 "metadata": {
  "accelerator": "GPU",
  "colab": {
   "default_view": {},
   "name": "CNN-CIFAR10.ipynb",
   "provenance": [],
   "version": "0.3.2",
   "views": {}
  },
  "kernelspec": {
   "display_name": "Environment (conda_tensorflow_p36)",
   "language": "python",
   "name": "conda_tensorflow_p36"
  },
  "language_info": {
   "codemirror_mode": {
    "name": "ipython",
    "version": 3
   },
   "file_extension": ".py",
   "mimetype": "text/x-python",
   "name": "python",
   "nbconvert_exporter": "python",
   "pygments_lexer": "ipython3",
   "version": "3.6.6"
  }
 },
 "nbformat": 4,
 "nbformat_minor": 1
}
